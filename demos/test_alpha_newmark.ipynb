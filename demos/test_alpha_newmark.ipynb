{
 "cells": [
  {
   "cell_type": "code",
   "execution_count": null,
   "metadata": {},
   "outputs": [],
   "source": [
    "import numpy as np\n",
    "import matplotlib.pyplot as plt\n",
    "import pandas as pd\n",
    "\n",
    "path = r\"\\\\wsl.localhost\\Ubuntu\\home\\paultirler\\ISC\\PEP-ODE\\build\"\n",
    "values = pd.read_csv(f\"{path}\\\\mass_pendulum_alpha.csv\")\n",
    "\n",
    "plt.figure()\n",
    "plt.plot(values[\"t\"], values[\"x[0]\"], label=\"x\")\n",
    "plt.plot(values[\"t\"], values[\"x[1]\"], label=\"y\")\n",
    "plt.plot(values[\"t\"], values[\"x[2]\"], label=\"force on string\")\n",
    "\n",
    "plt.grid()\n",
    "plt.legend()\n",
    "plt.show()"
   ]
  }
 ],
 "metadata": {
  "language_info": {
   "name": "python"
  }
 },
 "nbformat": 4,
 "nbformat_minor": 2
}
